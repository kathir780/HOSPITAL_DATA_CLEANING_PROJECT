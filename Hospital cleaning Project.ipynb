{
 "cells": [
  {
   "cell_type": "markdown",
   "id": "5f5be93b",
   "metadata": {},
   "source": [
    "# 🏥 Hospital Data Cleaning Project\n",
    "\n",
    "**Goal**: Clean and prepare hospital admission data to enable accurate analysis of patient demographics, admission types, diagnoses, and healthcare payment trends.\n"
   ]
  },
  {
   "cell_type": "markdown",
   "id": "ad1b230e",
   "metadata": {},
   "source": [
    "## 📋 Project Outline\n",
    "1. Load the dataset\n",
    "2. Explore the structure and nulls\n",
    "3. Drop or impute null values\n",
    "4. Standardize and format text\n",
    "5. Remove duplicates\n",
    "6. Final check and export\n"
   ]
  },
  {
   "cell_type": "markdown",
   "id": "39a52bb8",
   "metadata": {},
   "source": [
    "## Explore the Data"
   ]
  },
  {
   "cell_type": "code",
   "execution_count": null,
   "id": "9d13c98b",
   "metadata": {},
   "outputs": [
    {
     "name": "stderr",
     "output_type": "stream",
     "text": [
      "C:\\Users\\kathir\\AppData\\Local\\Temp\\ipykernel_15916\\1388219114.py:1: DtypeWarning: Columns (10,29) have mixed types. Specify dtype option on import or set low_memory=False.\n",
      "  df = pd.read_csv('Hospital_Inpatient_Discharges__SPARCS_De-Identified___2021_20231012.csv')\n"
     ]
    },
    {
     "data": {
      "text/plain": [
       "Index(['Hospital Service Area', 'Hospital County',\n",
       "       'Operating Certificate Number', 'Permanent Facility Id',\n",
       "       'Facility Name', 'Age Group', 'Zip Code - 3 digits', 'Gender', 'Race',\n",
       "       'Ethnicity', 'Length of Stay', 'Type of Admission',\n",
       "       'Patient Disposition', 'Discharge Year', 'CCSR Diagnosis Code',\n",
       "       'CCSR Diagnosis Description', 'CCSR Procedure Code',\n",
       "       'CCSR Procedure Description', 'APR DRG Code', 'APR DRG Description',\n",
       "       'APR MDC Code', 'APR MDC Description', 'APR Severity of Illness Code',\n",
       "       'APR Severity of Illness Description', 'APR Risk of Mortality',\n",
       "       'APR Medical Surgical Description', 'Payment Typology 1',\n",
       "       'Payment Typology 2', 'Payment Typology 3', 'Birth Weight',\n",
       "       'Emergency Department Indicator', 'Total Charges', 'Total Costs'],\n",
       "      dtype='object')"
      ]
     },
     "execution_count": 29,
     "metadata": {},
     "output_type": "execute_result"
    }
   ],
   "source": [
    "import pandas as pd\n",
    "\n",
    "df = pd.read_csv('Hospital_Inpatient_Discharges__SPARCS_De-Identified___2021_20231012.csv')\n",
    "df.shape\n",
    "df.info()\n",
    "df.head()\n",
    "df.columns\n"
   ]
  },
  {
   "cell_type": "markdown",
   "id": "6c279ab8",
   "metadata": {},
   "source": [
    "### Drop irrelevant columns"
   ]
  },
  {
   "cell_type": "code",
   "execution_count": 30,
   "id": "7db0bd75",
   "metadata": {},
   "outputs": [],
   "source": [
    "columns_to_drop = ['Operating Certificate Number','Hospital County' ]\n",
    "df.drop(columns=columns_to_drop, inplace=True)"
   ]
  },
  {
   "cell_type": "markdown",
   "id": "5f64e4a0",
   "metadata": {},
   "source": [
    "## Rename Columns for Clarity"
   ]
  },
  {
   "cell_type": "code",
   "execution_count": 31,
   "id": "568722ac",
   "metadata": {},
   "outputs": [],
   "source": [
    "df.rename(columns={\n",
    "   'Zip Code - 3 digits' : 'zipcode3',\n",
    "   'APR DRG Code' : 'DRG_code',\n",
    "   'Age Group' : 'Age_group',   \n",
    "}, inplace=True)"
   ]
  },
  {
   "cell_type": "markdown",
   "id": "04bcb028",
   "metadata": {},
   "source": [
    "## handle missing values"
   ]
  },
  {
   "cell_type": "code",
   "execution_count": 32,
   "id": "8fb028b3",
   "metadata": {},
   "outputs": [
    {
     "data": {
      "text/plain": [
       "Hospital Service Area                    10642\n",
       "Permanent Facility Id                    10642\n",
       "Facility Name                                0\n",
       "Age_group                                    0\n",
       "zipcode3                                 45062\n",
       "Gender                                       0\n",
       "Race                                         0\n",
       "Ethnicity                                    0\n",
       "Length of Stay                               0\n",
       "Type of Admission                            0\n",
       "Patient Disposition                          0\n",
       "Discharge Year                               0\n",
       "CCSR Diagnosis Code                       1634\n",
       "CCSR Diagnosis Description                1634\n",
       "CCSR Procedure Code                     576021\n",
       "CCSR Procedure Description              576021\n",
       "DRG_code                                     0\n",
       "APR DRG Description                          0\n",
       "APR MDC Code                                 0\n",
       "APR MDC Description                          0\n",
       "APR Severity of Illness Code                 0\n",
       "APR Severity of Illness Description       2550\n",
       "APR Risk of Mortality                     2550\n",
       "APR Medical Surgical Description             0\n",
       "Payment Typology 1                           0\n",
       "Payment Typology 2                     1072245\n",
       "Payment Typology 3                     1768881\n",
       "Birth Weight                           1894731\n",
       "Emergency Department Indicator               0\n",
       "Total Charges                                0\n",
       "Total Costs                                  0\n",
       "dtype: int64"
      ]
     },
     "execution_count": 32,
     "metadata": {},
     "output_type": "execute_result"
    }
   ],
   "source": [
    "df.isnull().sum()"
   ]
  },
  {
   "cell_type": "markdown",
   "id": "112ad5f6",
   "metadata": {},
   "source": [
    "### 1️⃣ Dropping Columns with Too Many Nulls\n",
    "- Dropping: `CCSR Procedure Code`, `Procedure Description`, `Birth Weight`, `Payment Typology 2`, `Payment Typology 3`, `zipcode3`\n",
    "- Justification: Over 25% nulls — not recoverable or usable in modeling"
   ]
  },
  {
   "cell_type": "code",
   "execution_count": 33,
   "id": "b304ef03",
   "metadata": {},
   "outputs": [],
   "source": [
    "df.drop(columns=[\n",
    "    'Birth Weight', 'CCSR Procedure Description', 'CCSR Procedure Code', 'Payment Typology 2', 'Payment Typology 3', 'zipcode3'],\n",
    "        inplace=True)\n"
   ]
  },
  {
   "cell_type": "code",
   "execution_count": 34,
   "id": "15649a03",
   "metadata": {},
   "outputs": [
    {
     "data": {
      "text/plain": [
       "Hospital Service Area                  10642\n",
       "Permanent Facility Id                  10642\n",
       "Facility Name                              0\n",
       "Age_group                                  0\n",
       "Gender                                     0\n",
       "Race                                       0\n",
       "Ethnicity                                  0\n",
       "Length of Stay                             0\n",
       "Type of Admission                          0\n",
       "Patient Disposition                        0\n",
       "Discharge Year                             0\n",
       "CCSR Diagnosis Code                     1634\n",
       "CCSR Diagnosis Description              1634\n",
       "DRG_code                                   0\n",
       "APR DRG Description                        0\n",
       "APR MDC Code                               0\n",
       "APR MDC Description                        0\n",
       "APR Severity of Illness Code               0\n",
       "APR Severity of Illness Description     2550\n",
       "APR Risk of Mortality                   2550\n",
       "APR Medical Surgical Description           0\n",
       "Payment Typology 1                         0\n",
       "Emergency Department Indicator             0\n",
       "Total Charges                              0\n",
       "Total Costs                                0\n",
       "dtype: int64"
      ]
     },
     "execution_count": 34,
     "metadata": {},
     "output_type": "execute_result"
    }
   ],
   "source": [
    "df.isnull().sum()"
   ]
  },
  {
   "cell_type": "markdown",
   "id": "9b905cf3",
   "metadata": {},
   "source": [
    "## Handle Moderate Null values### 2️⃣ Imputing Low-Null Fields\n",
    "- `Hospital Service Area`, `Permanent Facility Id`, `APR Severity of Illness Description`: Impute as `'Unknown'`\n",
    "- `Permanent Facility Id`: Impute with Mode value\n"
   ]
  },
  {
   "cell_type": "code",
   "execution_count": null,
   "id": "48b1312a",
   "metadata": {},
   "outputs": [],
   "source": [
    "df['APR Severity of Illness Description']= df['APR Severity of Illness Description'].fillna('Unknown')\n",
    "df['APR Risk of Mortality'].fillna('Unknown', inplace=True)\n",
    "df['Hospital Service Area'].fillna('Unknown', inplace=True)\n",
    "df['Permanent Facility Id'].fillna('1456.0', inplace=True) # fill with mode"
   ]
  },
  {
   "cell_type": "markdown",
   "id": "fc8a7965",
   "metadata": {},
   "source": [
    "## Remove Critical rows like diagnosis"
   ]
  },
  {
   "cell_type": "code",
   "execution_count": 53,
   "id": "e18fe25a",
   "metadata": {},
   "outputs": [
    {
     "data": {
      "text/plain": [
       "Hospital Service Area                  0\n",
       "Permanent Facility Id                  0\n",
       "Facility Name                          0\n",
       "Age_group                              0\n",
       "Gender                                 0\n",
       "Race                                   0\n",
       "Ethnicity                              0\n",
       "Length of Stay                         0\n",
       "Type of Admission                      0\n",
       "Patient Disposition                    0\n",
       "Discharge Year                         0\n",
       "CCSR Diagnosis Code                    0\n",
       "CCSR Diagnosis Description             0\n",
       "DRG_code                               0\n",
       "APR DRG Description                    0\n",
       "APR MDC Code                           0\n",
       "APR MDC Description                    0\n",
       "APR Severity of Illness Code           0\n",
       "APR Severity of Illness Description    0\n",
       "APR Risk of Mortality                  0\n",
       "APR Medical Surgical Description       0\n",
       "Payment Typology 1                     0\n",
       "Emergency Department Indicator         0\n",
       "Total Charges                          0\n",
       "Total Costs                            0\n",
       "dtype: int64"
      ]
     },
     "execution_count": 53,
     "metadata": {},
     "output_type": "execute_result"
    }
   ],
   "source": [
    "df.dropna(subset=['CCSR Diagnosis Code', 'CCSR Diagnosis Description'], inplace=True)\n",
    "df.isnull().sum()"
   ]
  },
  {
   "cell_type": "markdown",
   "id": "018d5c6e",
   "metadata": {},
   "source": [
    "## Standardize Column Names"
   ]
  },
  {
   "cell_type": "code",
   "execution_count": 55,
   "id": "5b6cdce1",
   "metadata": {},
   "outputs": [
    {
     "data": {
      "text/plain": [
       "Index(['hospital_service_area', 'permanent_facility_id', 'facility_name',\n",
       "       'age_group', 'gender', 'race', 'ethnicity', 'length_of_stay',\n",
       "       'type_of_admission', 'patient_disposition', 'discharge_year',\n",
       "       'ccsr_diagnosis_code', 'ccsr_diagnosis_description', 'drg_code',\n",
       "       'apr_drg_description', 'apr_mdc_code', 'apr_mdc_description',\n",
       "       'apr_severity_of_illness_code', 'apr_severity_of_illness_description',\n",
       "       'apr_risk_of_mortality', 'apr_medical_surgical_description',\n",
       "       'payment_typology_1', 'emergency_department_indicator', 'total_charges',\n",
       "       'total_costs'],\n",
       "      dtype='object')"
      ]
     },
     "execution_count": 55,
     "metadata": {},
     "output_type": "execute_result"
    }
   ],
   "source": [
    "df.columns = df.columns.str.strip().str.lower().str.replace(' ', '_').str.replace('-', '_')\n",
    "df.columns"
   ]
  },
  {
   "cell_type": "markdown",
   "id": "20685f22",
   "metadata": {},
   "source": [
    "## Fix Categorical Columns"
   ]
  },
  {
   "cell_type": "code",
   "execution_count": null,
   "id": "a9a9f0b5",
   "metadata": {},
   "outputs": [
    {
     "data": {
      "text/plain": [
       "0            MALE\n",
       "1          FEMALE\n",
       "2          FEMALE\n",
       "3            MALE\n",
       "4          FEMALE\n",
       "            ...  \n",
       "2101583    FEMALE\n",
       "2101584      MALE\n",
       "2101585      MALE\n",
       "2101586    FEMALE\n",
       "2101587    FEMALE\n",
       "Name: gender, Length: 2099954, dtype: object"
      ]
     },
     "execution_count": 73,
     "metadata": {},
     "output_type": "execute_result"
    }
   ],
   "source": [
    "df['gender'] = df['gender'].str.upper().str.replace('M', 'MALE').str.replace('F', 'FEMALE')\n",
    "df['gender'] = df['gender'].str.strip().str.upper().str.replace('U', 'UNKNOWN')\n",
    "df['gender']"
   ]
  },
  {
   "cell_type": "code",
   "execution_count": 74,
   "id": "a060f31b",
   "metadata": {},
   "outputs": [
    {
     "data": {
      "text/plain": [
       "race                    gender \n",
       "Black/African American  FEMALE     213780\n",
       "                        MALE       172107\n",
       "                        UNKNOWN        29\n",
       "Multi-racial            FEMALE      12706\n",
       "                        MALE         9848\n",
       "                        UNKNOWN         3\n",
       "Other Race              FEMALE     301808\n",
       "                        MALE       248281\n",
       "                        UNKNOWN        60\n",
       "White                   FEMALE     616277\n",
       "                        MALE       524991\n",
       "                        UNKNOWN        64\n",
       "dtype: int64"
      ]
     },
     "execution_count": 74,
     "metadata": {},
     "output_type": "execute_result"
    }
   ],
   "source": [
    "df.groupby(['race', 'gender']).size()"
   ]
  },
  {
   "cell_type": "markdown",
   "id": "803e21ca",
   "metadata": {},
   "source": [
    "## Drop Duplicated Rows"
   ]
  },
  {
   "cell_type": "code",
   "execution_count": null,
   "id": "8c732ea2",
   "metadata": {},
   "outputs": [
    {
     "data": {
      "text/plain": [
       "np.int64(31580)"
      ]
     },
     "execution_count": 75,
     "metadata": {},
     "output_type": "execute_result"
    }
   ],
   "source": [
    "df.duplicated().sum()"
   ]
  },
  {
   "cell_type": "code",
   "execution_count": 77,
   "id": "bd4a3278",
   "metadata": {},
   "outputs": [],
   "source": [
    "df = df.drop_duplicates()"
   ]
  },
  {
   "cell_type": "code",
   "execution_count": 78,
   "id": "d7111819",
   "metadata": {},
   "outputs": [
    {
     "data": {
      "text/plain": [
       "np.int64(0)"
      ]
     },
     "execution_count": 78,
     "metadata": {},
     "output_type": "execute_result"
    }
   ],
   "source": [
    "df.duplicated().sum()"
   ]
  },
  {
   "cell_type": "markdown",
   "id": "95dedff0",
   "metadata": {},
   "source": [
    "## Final Null Check"
   ]
  },
  {
   "cell_type": "code",
   "execution_count": 79,
   "id": "ca077d2a",
   "metadata": {},
   "outputs": [
    {
     "data": {
      "text/plain": [
       "hospital_service_area                  0\n",
       "permanent_facility_id                  0\n",
       "facility_name                          0\n",
       "age_group                              0\n",
       "gender                                 0\n",
       "race                                   0\n",
       "ethnicity                              0\n",
       "length_of_stay                         0\n",
       "type_of_admission                      0\n",
       "patient_disposition                    0\n",
       "discharge_year                         0\n",
       "ccsr_diagnosis_code                    0\n",
       "ccsr_diagnosis_description             0\n",
       "drg_code                               0\n",
       "apr_drg_description                    0\n",
       "apr_mdc_code                           0\n",
       "apr_mdc_description                    0\n",
       "apr_severity_of_illness_code           0\n",
       "apr_severity_of_illness_description    0\n",
       "apr_risk_of_mortality                  0\n",
       "apr_medical_surgical_description       0\n",
       "payment_typology_1                     0\n",
       "emergency_department_indicator         0\n",
       "total_charges                          0\n",
       "total_costs                            0\n",
       "dtype: int64"
      ]
     },
     "execution_count": 79,
     "metadata": {},
     "output_type": "execute_result"
    }
   ],
   "source": [
    "df.isnull().sum()"
   ]
  },
  {
   "cell_type": "markdown",
   "id": "24f67d17",
   "metadata": {},
   "source": [
    "## Final Duplicates Check"
   ]
  },
  {
   "cell_type": "code",
   "execution_count": 80,
   "id": "a8d5eb21",
   "metadata": {},
   "outputs": [
    {
     "data": {
      "text/plain": [
       "np.int64(0)"
      ]
     },
     "execution_count": 80,
     "metadata": {},
     "output_type": "execute_result"
    }
   ],
   "source": [
    "df.duplicated().sum()"
   ]
  },
  {
   "cell_type": "code",
   "execution_count": 82,
   "id": "aeb63b4a",
   "metadata": {},
   "outputs": [
    {
     "data": {
      "text/plain": [
       "(2068374, 25)"
      ]
     },
     "execution_count": 82,
     "metadata": {},
     "output_type": "execute_result"
    }
   ],
   "source": [
    "df.shape"
   ]
  },
  {
   "cell_type": "markdown",
   "id": "c7015a22",
   "metadata": {},
   "source": [
    "## ✅ Final Summary\n",
    "\n",
    "- Dropped 6 high-null columns\n",
    "- Imputed 4 low-null columns\n",
    "- Cleaned text and standardized formatting\n",
    "- Removed duplicates\n",
    "- Final row count: 20,68,374\n",
    "- Final column Count: 25\n",
    "\n"
   ]
  },
  {
   "cell_type": "code",
   "execution_count": null,
   "id": "c2f9ce70",
   "metadata": {},
   "outputs": [],
   "source": []
  }
 ],
 "metadata": {
  "kernelspec": {
   "display_name": "Python 3",
   "language": "python",
   "name": "python3"
  },
  "language_info": {
   "codemirror_mode": {
    "name": "ipython",
    "version": 3
   },
   "file_extension": ".py",
   "mimetype": "text/x-python",
   "name": "python",
   "nbconvert_exporter": "python",
   "pygments_lexer": "ipython3",
   "version": "3.13.1"
  }
 },
 "nbformat": 4,
 "nbformat_minor": 5
}
